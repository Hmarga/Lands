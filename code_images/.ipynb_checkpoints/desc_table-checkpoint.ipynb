{
 "cells": [
  {
   "cell_type": "code",
   "execution_count": 1,
   "metadata": {},
   "outputs": [
    {
     "data": {
      "text/plain": [
       "<Figure size 1500x500 with 1 Axes>"
      ]
     },
     "metadata": {},
     "output_type": "display_data"
    }
   ],
   "source": [
    "# I. Libraries\n",
    "# -*- coding: utf-8 -*-\n",
    "import matplotlib.pyplot as plt\n",
    "import pandas as pd\n",
    "import re\n",
    "\n",
    "# II. Download the data\n",
    "lands = pd.read_csv('/home/hmdg/Documents/Data_Science/Repos/Lands/data/ldown_c.csv')\n",
    "\n",
    "\n",
    "#III. Define the function to do the table with the meaning of each kind of land.\n",
    "%matplotlib inline\n",
    "\n",
    "def desc_table(df):\n",
    "    ltype = df.type[df.type.str.contains('%|Land ')].unique()\n",
    "\n",
    "    # Adecuate the strings of types of lands\n",
    "    lterms=[]\n",
    "    for n in ltype:\n",
    "        s = (re.sub(\"[\\(\\[].*?[\\)\\]]\", \"\", n)).strip()\n",
    "        s = s.replace('Land area', 'Total Land Area')\n",
    "        words = s.split()\n",
    "        letters = [word[0].upper().strip() for word in words]\n",
    "        o = \"\".join(letters)\n",
    "        o = o.replace('ISFTBP','IB')\n",
    "        n = (s+' ('+o+')')\n",
    "        lterms.append(n)  \n",
    "\n",
    "        #Spliting the sentence for adequate it to the column width\n",
    "    lterms[4] = 'Important sites for\\n terrestrial biodiversity\\n protected (IB)'\n",
    "\n",
    "    # Manual list with definitions of the type of lands\n",
    "    t_0 = 'Total area excluding area under inland water bodies. The definition of inland water bodies generally includes\\n major rivers and lakes. Data is expressed in 1000 hectares (Ha).'\n",
    "    t_1 = 'Arable land includes land defined by the FAO as land under temporary crops (double-cropped areas are counted once),\\n temporary meadows for mowing or for pasture, land under market or kitchen gardens, and land temporarily fallow.\\n Land abandoned as a result of shifting cultivation is excluded.'\n",
    "    t_2 = 'Crops are divided into temporary and permanent crops. Permanent crops are sown or planted once, and then occupy\\n the land for some years and need not be replanted after each annual harvest, such as cocoa, coffee and rubber.\\n This category includes flowering shrubs, types fruit trees, nut trees and vines, but excludes trees grown for wood or timber.'\n",
    "    t_3 = 'Area covered with forest.'\n",
    "    t_4 = 'Terrestrial protected areas.'\n",
    "    \n",
    "    rows = [[lterms[0],t_0],[lterms[1],t_1],[lterms[2],t_2],[lterms[3],t_3],[lterms[4],t_4]]\n",
    "    columns = ['Types', 'Description']\n",
    "    \n",
    "    color = [[\"gainsboro\",\"gainsboro\"],[\"lightsalmon\",\"lightsalmon\"],[\"indianred\",\"indianred\"],[\"lightblue\",\"lightblue\"],[\"cornflowerblue\",\"cornflowerblue\"]]\n",
    "\n",
    "    fig = plt.figure(figsize=(15,5))\n",
    "\n",
    "    ax = fig.add_subplot(111, frameon=False, xticks=[], yticks=[])\n",
    "\n",
    "    tab = plt.table(colLabels=columns,\n",
    "                    cellText = rows, \n",
    "                    loc='center', \n",
    "                    cellColours=color,\n",
    "                    colWidths = (0.23,1.17),\n",
    "                    cellLoc = 'center',\n",
    "                    rowLoc = 'center',\n",
    "                    bbox = (-0.16,0,1.28,1), \n",
    "                   )\n",
    "    # Changing the fontfamily\n",
    "    for n in range(len(columns)):\n",
    "        tab[0,n].set_text_props(fontfamily='Purisa', fontweight='heavy', size=16)\n",
    "    for n in range(1,(len(rows)+1)):\n",
    "        for s in range(0,2):\n",
    "            tab[n,s].set_text_props(size=14)\n",
    "\n",
    "\n",
    "    # Individual settings\n",
    "    tab.auto_set_font_size(False)\n",
    "    tab.set_in_layout(True)\n",
    "    tab.scale(0.9,5.5) #set the width of the collumns\n",
    "\n",
    "    # Cell height settings\n",
    "    cellDict = tab.get_celld()\n",
    "    for n in range(5):\n",
    "        l = [0,4,5]\n",
    "        if n in l:\n",
    "            cellDict[(n,0)].set_height(0.15)\n",
    "            cellDict[(n,1)].set_height(0.15)\n",
    "\n",
    "    plt.savefig('/home/hmdg/Documents/Data_Science/Repos/Lands/images/desc_table.png')\n",
    "    return plt.show()\n",
    "\n",
    "desc_table(lands)"
   ]
  },
  {
   "cell_type": "code",
   "execution_count": null,
   "metadata": {},
   "outputs": [],
   "source": []
  }
 ],
 "metadata": {
  "celltoolbar": "Raw Cell Format",
  "kernelspec": {
   "display_name": "Python 3",
   "language": "python",
   "name": "python3"
  },
  "language_info": {
   "codemirror_mode": {
    "name": "ipython",
    "version": 3
   },
   "file_extension": ".py",
   "mimetype": "text/x-python",
   "name": "python",
   "nbconvert_exporter": "python",
   "pygments_lexer": "ipython3",
   "version": "3.7.3"
  }
 },
 "nbformat": 4,
 "nbformat_minor": 2
}
