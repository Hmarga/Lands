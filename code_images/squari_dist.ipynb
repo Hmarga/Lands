{
 "cells": [
  {
   "cell_type": "code",
   "execution_count": 2,
   "metadata": {},
   "outputs": [
    {
     "data": {
      "image/png": "[encoded data removed]",
      "text/plain": [
       "<Figure size 504x360 with 1 Axes>"
      ]
     },
     "metadata": {
      "needs_background": "light"
     },
     "output_type": "display_data"
    }
   ],
   "source": [
    "# I - Libraries\n",
    "# -*- coding: utf-8 -*-\n",
    "\n",
    "import matplotlib.pyplot as plt\n",
    "import squarify \n",
    "import pandas as pd\n",
    "import geopandas as gpd\n",
    "\n",
    "# II- Download the reference table\n",
    "wlands16 = pd.read_csv('/home/hmdg/Documents/Data_Science/Repos/Lands/data/wlands16.csv')\n",
    "wlands16 = wlands16.copy()\n",
    "\n",
    "# III\n",
    "# --- Adding the relative values - percentage - of every type of land.\n",
    "# It's needed the data in absolutes values of the 'Important sites for terrestrial biodiversity protected'.\n",
    "# in order to obtain the general percentage of this indicator for the world.\n",
    "# That is the only indicator that is comming just in percentage.\n",
    "\n",
    "\n",
    "# Create the df with the total percentage of all the indicators(LA, AL, PC, FC and IB)\n",
    "IB_abs = wlands16[['name_w', 'value', 'a_type']]\n",
    "IB_abs = IB_abs.pivot(columns='a_type', index='name_w')\n",
    "IB_abs.columns= IB_abs.columns.droplevel()\n",
    "IB_abs['IB'] = 0.01 * IB_abs['IB%']*IB_abs['LA']\n",
    "IB_abs = IB_abs[['LA', 'AL', 'PC', 'FC', 'IB']].sum()\n",
    "IB_abs = pd.DataFrame(IB_abs)\n",
    "IB_abs['perc'] = 100 * IB_abs[0].div(IB_abs.iloc[0].item())\n",
    "IB_abs = IB_abs.reset_index()\n",
    "\n",
    "# IV Function to plot the percentage distribution\n",
    "%matplotlib inline\n",
    "\n",
    "def sq_dist(df):\n",
    "    fig = plt.figure(figsize=(7, 5)) \n",
    "    df = df.loc[1:]\n",
    "    size = df['perc'].to_list()\n",
    "    labels = df.apply(lambda x: str(x['a_type']) + \"\\n (\" + str(round(x['perc'],1)) + \"%)\", axis=1)\n",
    "\n",
    "\n",
    "    colors = ['lightsalmon', 'indianred', 'lightblue', 'cornflowerblue']\n",
    "\n",
    "    ax = squarify.plot(sizes=size, \n",
    "                       alpha=0.8, \n",
    "                       color=colors, \n",
    "                       label=labels,\n",
    "                       text_kwargs={'fontsize':13, 'family':'sans-serif', 'style':'italic', 'weight':'bold',\n",
    "                          'multialignment':'center'},\n",
    "                       bar_kwargs=dict(linewidth=1.2, edgecolor=\"white\"))\n",
    "\n",
    "    plt.title('World Land Distribution')\n",
    "    plt.axis('off')\n",
    "    plt.tight_layout()\n",
    "    plt.savefig('/home/hmdg/Documents/Data_Science/Repos/Lands/images/squari_dist.png', bbox_inches='tight')\n",
    "    return plt.show()\n",
    "\n",
    "sq_dist(IB_abs)\n"
   ]
  },
  {
   "cell_type": "code",
   "execution_count": null,
   "metadata": {},
   "outputs": [],
   "source": []
  }
 ],
 "metadata": {
  "celltoolbar": "Raw Cell Format",
  "kernelspec": {
   "display_name": "Python 3",
   "language": "python",
   "name": "python3"
  },
  "language_info": {
   "codemirror_mode": {
    "name": "ipython",
    "version": 3
   },
   "file_extension": ".py",
   "mimetype": "text/x-python",
   "name": "python",
   "nbconvert_exporter": "python",
   "pygments_lexer": "ipython3",
   "version": "3.7.3"
  }
 },
 "nbformat": 4,
 "nbformat_minor": 2
}
