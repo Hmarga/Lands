{
 "cells": [
  {
   "cell_type": "code",
   "execution_count": 1,
   "metadata": {},
   "outputs": [],
   "source": [
    "# I.\n",
    "# -*- coding: utf-8 -*-\n",
    "\n",
    "import matplotlib.pyplot as plt\n",
    "import matplotlib as mpl\n",
    "import pandas as pd\n",
    "\n",
    "import geopandas as gpd\n",
    "from area import area\n",
    "import numpy as np\n"
   ]
  },
  {
   "cell_type": "markdown",
   "metadata": {},
   "source": [
    "# How many types of lands are classified?"
   ]
  },
  {
   "cell_type": "code",
   "execution_count": 2,
   "metadata": {},
   "outputs": [
    {
     "name": "stdout",
     "output_type": "stream",
     "text": [
      "- The df has  8  columns :\n",
      "\n",
      "* number\n",
      "* region_country\n",
      "* year\n",
      "* type\n",
      "* value\n",
      "* footnotes\n",
      "* source\n",
      "* general_source\n",
      "\n",
      "- A size of  6199  rows \n",
      "- A 3411  null values; just in the \"footnotes column \n",
      "- More specific details: \n",
      "\n",
      "<class 'pandas.core.frame.DataFrame'>\n",
      "RangeIndex: 6199 entries, 0 to 6198\n",
      "Data columns (total 8 columns):\n",
      "number            6199 non-null int64\n",
      "region_country    6199 non-null object\n",
      "year              6199 non-null int64\n",
      "type              6199 non-null object\n",
      "value             6199 non-null float64\n",
      "footnotes         2788 non-null object\n",
      "source            6199 non-null object\n",
      "general_source    6199 non-null object\n",
      "dtypes: float64(1), int64(2), object(5)\n",
      "memory usage: 387.5+ KB\n"
     ]
    }
   ],
   "source": [
    "# II \n",
    "\n",
    "landun = pd.read_csv('/home/hmdg/Documents/Data_Science/Lands/SYB62_145_201904_Land.csv', \n",
    "                      header=1, encoding='iso8859_1')#'utf-8-sig')\n",
    "\n",
    "# Reference column\n",
    "landun['general_source'] = 'https://data.un.org/' #-Environment, Land - last version 2019\n",
    "# or https://www.un.org/en/databases/ Statistical Data UN Data\n",
    "\n",
    "# Change columns name\n",
    "list = {'Unnamed: 1' : 'region_country',\n",
    "         'Region/Country/Area': 'number',\n",
    "         'Series' : 'type',\n",
    "         'Value' : 'value',\n",
    "         'Year' : 'year',\n",
    "         'Footnotes' : 'footnotes',\n",
    "         'Source' : 'source',\n",
    "        }\n",
    "\n",
    "landun = landun.rename(columns = list)\n",
    "\n",
    "print('- The df has ',str(len(landun.columns)), ' columns :\\n')\n",
    "col = [print('*',landun.columns[n]) for n in range(len(landun.columns))]\n",
    "\n",
    "print('\\n- A size of ',str(landun.shape[0]), ' rows',\n",
    "      '\\n- A',landun.isnull().sum()[landun.isnull().sum()>0].item(),' null values; just in the \"footnotes column',\n",
    "      '\\n- More specific details: \\n')\n",
    "\n",
    "landun.info()\n"
   ]
  },
  {
   "cell_type": "code",
   "execution_count": 3,
   "metadata": {},
   "outputs": [
    {
     "data": {
      "text/html": [
       "<div>\n",
       "<style scoped>\n",
       "    .dataframe tbody tr th:only-of-type {\n",
       "        vertical-align: middle;\n",
       "    }\n",
       "\n",
       "    .dataframe tbody tr th {\n",
       "        vertical-align: top;\n",
       "    }\n",
       "\n",
       "    .dataframe thead th {\n",
       "        text-align: right;\n",
       "    }\n",
       "</style>\n",
       "<table border=\"1\" class=\"dataframe\">\n",
       "  <thead>\n",
       "    <tr style=\"text-align: right;\">\n",
       "      <th></th>\n",
       "      <th>number</th>\n",
       "      <th>region_country</th>\n",
       "      <th>year</th>\n",
       "      <th>type</th>\n",
       "      <th>value</th>\n",
       "      <th>footnotes</th>\n",
       "      <th>source</th>\n",
       "      <th>general_source</th>\n",
       "    </tr>\n",
       "  </thead>\n",
       "  <tbody>\n",
       "    <tr>\n",
       "      <th>5365</th>\n",
       "      <td>736</td>\n",
       "      <td>Sudan [former]</td>\n",
       "      <td>2005</td>\n",
       "      <td>Land area (thousand hectares)</td>\n",
       "      <td>237600.0</td>\n",
       "      <td>NaN</td>\n",
       "      <td>Food and Agriculture Organization of the Unite...</td>\n",
       "      <td>https://data.un.org/</td>\n",
       "    </tr>\n",
       "    <tr>\n",
       "      <th>5372</th>\n",
       "      <td>736</td>\n",
       "      <td>Sudan [former]</td>\n",
       "      <td>2010</td>\n",
       "      <td>Land area (thousand hectares)</td>\n",
       "      <td>237600.0</td>\n",
       "      <td>NaN</td>\n",
       "      <td>Food and Agriculture Organization of the Unite...</td>\n",
       "      <td>https://data.un.org/</td>\n",
       "    </tr>\n",
       "  </tbody>\n",
       "</table>\n",
       "</div>"
      ],
      "text/plain": [
       "      number  region_country  year                           type     value  \\\n",
       "5365     736  Sudan [former]  2005  Land area (thousand hectares)  237600.0   \n",
       "5372     736  Sudan [former]  2010  Land area (thousand hectares)  237600.0   \n",
       "\n",
       "     footnotes                                             source  \\\n",
       "5365       NaN  Food and Agriculture Organization of the Unite...   \n",
       "5372       NaN  Food and Agriculture Organization of the Unite...   \n",
       "\n",
       "            general_source  \n",
       "5365  https://data.un.org/  \n",
       "5372  https://data.un.org/  "
      ]
     },
     "execution_count": 3,
     "metadata": {},
     "output_type": "execute_result"
    }
   ],
   "source": [
    "landun[(landun['region_country'].str.contains('Sudan')) & (landun.type.str.contains('Land'))]"
   ]
  },
  {
   "cell_type": "code",
   "execution_count": 4,
   "metadata": {},
   "outputs": [
    {
     "name": "stdout",
     "output_type": "stream",
     "text": [
      "0 Land area (thousand hectares)\n",
      "1 Arable land (thousand hectares)\n",
      "2 Permanent crops (thousand hectares)\n",
      "3 Forest cover (thousand hectares)\n",
      "4 Arable land (% of total land area)\n",
      "5 Permanent crops (% of total land area)\n",
      "6 Forest cover (% of total land area)\n",
      "7 Important sites for terrestrial biodiversity protected (% of total sites protected)\n"
     ]
    },
    {
     "data": {
      "text/plain": [
       "[None, None, None, None, None, None, None, None]"
      ]
     },
     "execution_count": 4,
     "metadata": {},
     "output_type": "execute_result"
    }
   ],
   "source": [
    "[print(n, landun.type.unique()[n])  for n in range(len(landun.type.unique()))]"
   ]
  },
  {
   "cell_type": "markdown",
   "metadata": {},
   "source": [
    "* There are 8 different groups, that can be classified in 5 types of land:\n",
    "    - The 5 lands types:  \n",
    "        - Land area (\"thousand hectares\")\n",
    "        - Arable land (\"thousand hectares\" and \"% of total land area\")\n",
    "        - Forest cover (\"thousand hectares\" and \"% of total land area\")\n",
    "        - Permanent crops (\"thousand hectares\" and \"% of total land area\")\n",
    "        - Important sites for terrestrial biodiversity protected (\"% of total sites                                     protected\")\n"
   ]
  },
  {
   "cell_type": "markdown",
   "metadata": {},
   "source": [
    "# How many countries do we have?"
   ]
  },
  {
   "cell_type": "code",
   "execution_count": 5,
   "metadata": {},
   "outputs": [
    {
     "name": "stdout",
     "output_type": "stream",
     "text": [
      "\n",
      "There are 276 different names of regions/countries.\n",
      "\n"
     ]
    }
   ],
   "source": [
    "print('\\nThere are ' +str(landun.region_country.unique().shape[0])+ ' different names of regions/countries.\\n')\n",
    "#lcountry = print(landun.region_country.unique())\n"
   ]
  },
  {
   "cell_type": "markdown",
   "metadata": {},
   "source": [
    "If we see carefull the data, the firsts registers are region names (from 'Africa' to 'Polynesia'). We will filter just the countries names later."
   ]
  },
  {
   "cell_type": "markdown",
   "metadata": {},
   "source": [
    "## How much data do we have for every country by year?"
   ]
  },
  {
   "cell_type": "code",
   "execution_count": 6,
   "metadata": {},
   "outputs": [
    {
     "data": {
      "text/html": [
       "<style  type=\"text/css\" >\n",
       "    #T_d0e6a6ac_0170_11eb_91bc_d7a8e805d84drow0_col1 {\n",
       "            color:  red;\n",
       "        }    #T_d0e6a6ac_0170_11eb_91bc_d7a8e805d84drow0_col2 {\n",
       "            color:  red;\n",
       "        }    #T_d0e6a6ac_0170_11eb_91bc_d7a8e805d84drow7_col0 {\n",
       "            background-color:  yellow;\n",
       "        }</style><table id=\"T_d0e6a6ac_0170_11eb_91bc_d7a8e805d84d\" ><thead>    <tr>        <th class=\"blank\" ></th>        <th class=\"blank level0\" ></th>        <th class=\"col_heading level0 col0\" >region_country</th>        <th class=\"col_heading level0 col1\" >dif</th>        <th class=\"col_heading level0 col2\" >dif_%</th>    </tr>    <tr>        <th class=\"index_name level0\" >year</th>        <th class=\"index_name level1\" >type</th>        <th class=\"blank\" ></th>        <th class=\"blank\" ></th>        <th class=\"blank\" ></th>    </tr></thead><tbody>\n",
       "                <tr>\n",
       "                        <th id=\"T_d0e6a6ac_0170_11eb_91bc_d7a8e805d84dlevel0_row0\" class=\"row_heading level0 row0\" rowspan=8>2016</th>\n",
       "                        <th id=\"T_d0e6a6ac_0170_11eb_91bc_d7a8e805d84dlevel1_row0\" class=\"row_heading level1 row0\" >Important sites for terrestrial biodiversity protected (% of total sites protected)</th>\n",
       "                        <td id=\"T_d0e6a6ac_0170_11eb_91bc_d7a8e805d84drow0_col0\" class=\"data row0 col0\" >232</td>\n",
       "                        <td id=\"T_d0e6a6ac_0170_11eb_91bc_d7a8e805d84drow0_col1\" class=\"data row0 col1\" >27</td>\n",
       "                        <td id=\"T_d0e6a6ac_0170_11eb_91bc_d7a8e805d84drow0_col2\" class=\"data row0 col2\" >10.4247</td>\n",
       "            </tr>\n",
       "            <tr>\n",
       "                                <th id=\"T_d0e6a6ac_0170_11eb_91bc_d7a8e805d84dlevel1_row1\" class=\"row_heading level1 row1\" >Permanent crops (% of total land area)</th>\n",
       "                        <td id=\"T_d0e6a6ac_0170_11eb_91bc_d7a8e805d84drow1_col0\" class=\"data row1 col0\" >236</td>\n",
       "                        <td id=\"T_d0e6a6ac_0170_11eb_91bc_d7a8e805d84drow1_col1\" class=\"data row1 col1\" >23</td>\n",
       "                        <td id=\"T_d0e6a6ac_0170_11eb_91bc_d7a8e805d84drow1_col2\" class=\"data row1 col2\" >8.88031</td>\n",
       "            </tr>\n",
       "            <tr>\n",
       "                                <th id=\"T_d0e6a6ac_0170_11eb_91bc_d7a8e805d84dlevel1_row2\" class=\"row_heading level1 row2\" >Permanent crops (thousand hectares)</th>\n",
       "                        <td id=\"T_d0e6a6ac_0170_11eb_91bc_d7a8e805d84drow2_col0\" class=\"data row2 col0\" >237</td>\n",
       "                        <td id=\"T_d0e6a6ac_0170_11eb_91bc_d7a8e805d84drow2_col1\" class=\"data row2 col1\" >22</td>\n",
       "                        <td id=\"T_d0e6a6ac_0170_11eb_91bc_d7a8e805d84drow2_col2\" class=\"data row2 col2\" >8.49421</td>\n",
       "            </tr>\n",
       "            <tr>\n",
       "                                <th id=\"T_d0e6a6ac_0170_11eb_91bc_d7a8e805d84dlevel1_row3\" class=\"row_heading level1 row3\" >Arable land (% of total land area)</th>\n",
       "                        <td id=\"T_d0e6a6ac_0170_11eb_91bc_d7a8e805d84drow3_col0\" class=\"data row3 col0\" >249</td>\n",
       "                        <td id=\"T_d0e6a6ac_0170_11eb_91bc_d7a8e805d84drow3_col1\" class=\"data row3 col1\" >10</td>\n",
       "                        <td id=\"T_d0e6a6ac_0170_11eb_91bc_d7a8e805d84drow3_col2\" class=\"data row3 col2\" >3.861</td>\n",
       "            </tr>\n",
       "            <tr>\n",
       "                                <th id=\"T_d0e6a6ac_0170_11eb_91bc_d7a8e805d84dlevel1_row4\" class=\"row_heading level1 row4\" >Arable land (thousand hectares)</th>\n",
       "                        <td id=\"T_d0e6a6ac_0170_11eb_91bc_d7a8e805d84drow4_col0\" class=\"data row4 col0\" >250</td>\n",
       "                        <td id=\"T_d0e6a6ac_0170_11eb_91bc_d7a8e805d84drow4_col1\" class=\"data row4 col1\" >9</td>\n",
       "                        <td id=\"T_d0e6a6ac_0170_11eb_91bc_d7a8e805d84drow4_col2\" class=\"data row4 col2\" >3.4749</td>\n",
       "            </tr>\n",
       "            <tr>\n",
       "                                <th id=\"T_d0e6a6ac_0170_11eb_91bc_d7a8e805d84dlevel1_row5\" class=\"row_heading level1 row5\" >Forest cover (% of total land area)</th>\n",
       "                        <td id=\"T_d0e6a6ac_0170_11eb_91bc_d7a8e805d84drow5_col0\" class=\"data row5 col0\" >255</td>\n",
       "                        <td id=\"T_d0e6a6ac_0170_11eb_91bc_d7a8e805d84drow5_col1\" class=\"data row5 col1\" >4</td>\n",
       "                        <td id=\"T_d0e6a6ac_0170_11eb_91bc_d7a8e805d84drow5_col2\" class=\"data row5 col2\" >1.5444</td>\n",
       "            </tr>\n",
       "            <tr>\n",
       "                                <th id=\"T_d0e6a6ac_0170_11eb_91bc_d7a8e805d84dlevel1_row6\" class=\"row_heading level1 row6\" >Forest cover (thousand hectares)</th>\n",
       "                        <td id=\"T_d0e6a6ac_0170_11eb_91bc_d7a8e805d84drow6_col0\" class=\"data row6 col0\" >257</td>\n",
       "                        <td id=\"T_d0e6a6ac_0170_11eb_91bc_d7a8e805d84drow6_col1\" class=\"data row6 col1\" >2</td>\n",
       "                        <td id=\"T_d0e6a6ac_0170_11eb_91bc_d7a8e805d84drow6_col2\" class=\"data row6 col2\" >0.772201</td>\n",
       "            </tr>\n",
       "            <tr>\n",
       "                                <th id=\"T_d0e6a6ac_0170_11eb_91bc_d7a8e805d84dlevel1_row7\" class=\"row_heading level1 row7\" >Land area (thousand hectares)</th>\n",
       "                        <td id=\"T_d0e6a6ac_0170_11eb_91bc_d7a8e805d84drow7_col0\" class=\"data row7 col0\" >259</td>\n",
       "                        <td id=\"T_d0e6a6ac_0170_11eb_91bc_d7a8e805d84drow7_col1\" class=\"data row7 col1\" >0</td>\n",
       "                        <td id=\"T_d0e6a6ac_0170_11eb_91bc_d7a8e805d84drow7_col2\" class=\"data row7 col2\" >0</td>\n",
       "            </tr>\n",
       "    </tbody></table>"
      ],
      "text/plain": [
       "<pandas.io.formats.style.Styler at 0x7fdba32abdd8>"
      ]
     },
     "execution_count": 6,
     "metadata": {},
     "output_type": "execute_result"
    }
   ],
   "source": [
    "# Functions to style the differences in the tables\n",
    "\n",
    "def highlight_max(s): # highlight the maximum in a Series yellow.\n",
    "    is_max = s == s.max()\n",
    "    return ['background-color: yellow' if v else '' for v in is_max]\n",
    "    \n",
    "def highlight_red(s): # highlight the maximum in a Series red.\n",
    "    is_max = s == s.max()\n",
    "    return ['color: red' if v else '' for v in is_max]\n",
    "\n",
    "\n",
    "lg = landun.groupby(['year','type']).count()\n",
    "lg[['region_country', 'value']]\n",
    "\n",
    "###################################################################\n",
    "# Let's focus in the nearest year with more complete data = 2016 ##\n",
    "###################################################################\n",
    "\n",
    "l16 = landun[landun.year==2016]\n",
    "lg = l16.groupby(['year','type']).count()\n",
    "lg = lg[['region_country']].sort_values(by='region_country')\n",
    "lg['dif'] = lg.region_country.max() - lg.region_country\n",
    "lg['dif_%'] = 100*(lg.dif/lg.region_country.max())\n",
    "\n",
    "lg.style.apply(highlight_max, subset=['region_country']).apply(highlight_red, subset=['dif', 'dif_%'])\n"
   ]
  },
  {
   "cell_type": "markdown",
   "metadata": {},
   "source": [
    "Notes:\n",
    "\n",
    "- The remarkables aspects of the table above are:\n",
    "   - The max value is 259. This means that the 'Land area' is the land type with more data statized; if we consider that there are 279 country names, there are lost 20 register this column for this specific type; and more for the rest of the types.\n",
    "   - The less percentage of data correspond to 'Important sites for terrestrial biodiversity protected (% of total sites protected)' type.\n",
    "   - There are no NULLs values, are just less values/registers/rows per country. See the complement in plot below. The column that has null values is footnotes; and there is data not needed for this example.\n",
    "   - These missing records will be watched later.\n",
    "\n",
    "Because there are names in the 'region_country' column that are regions (like 'Middle Africa'), we will wait until match this data with the geopandas one, in order to filter just the countries and analyse better this values.\n",
    "\n"
   ]
  },
  {
   "cell_type": "markdown",
   "metadata": {},
   "source": [
    "\n",
    "## Let's see the geopandas library."
   ]
  },
  {
   "cell_type": "code",
   "execution_count": 7,
   "metadata": {},
   "outputs": [
    {
     "name": "stdout",
     "output_type": "stream",
     "text": [
      "- The df has  6  columns :\n",
      "\n",
      "* pop_est\n",
      "* continent\n",
      "* name\n",
      "* iso_a3\n",
      "* gdp_md_est\n",
      "* geometry\n",
      "\n",
      "- A size of  177  rows \n",
      "- No NULL values \n",
      "- More specific details: \n",
      "\n",
      "<class 'geopandas.geodataframe.GeoDataFrame'>\n",
      "RangeIndex: 177 entries, 0 to 176\n",
      "Data columns (total 6 columns):\n",
      "pop_est       177 non-null int64\n",
      "continent     177 non-null object\n",
      "name          177 non-null object\n",
      "iso_a3        177 non-null object\n",
      "gdp_md_est    177 non-null float64\n",
      "geometry      177 non-null geometry\n",
      "dtypes: float64(1), geometry(1), int64(1), object(3)\n",
      "memory usage: 8.4+ KB\n"
     ]
    }
   ],
   "source": [
    "# VI \n",
    "\n",
    "world = gpd.read_file(gpd.datasets.get_path('naturalearth_lowres'))\n",
    "\n",
    "world = world.copy()\n",
    "\n",
    "print('- The df has ',str(len(world.columns)), ' columns :\\n')\n",
    "col = [print('*',world.columns[n]) for n in range(len(world.columns))]\n",
    "\n",
    "print('\\n- A size of ',str(world.shape[0]), ' rows',\n",
    "      '\\n- No NULL values',\n",
    "      '\\n- More specific details: \\n')\n",
    "\n",
    "world.info()\n"
   ]
  },
  {
   "cell_type": "markdown",
   "metadata": {},
   "source": [
    "# How many countries do we have?"
   ]
  },
  {
   "cell_type": "code",
   "execution_count": 8,
   "metadata": {},
   "outputs": [
    {
     "name": "stdout",
     "output_type": "stream",
     "text": [
      "\n",
      "There are 177 different names of countries.\n",
      "\n"
     ]
    }
   ],
   "source": [
    "print('\\nThere are ' +str(world.name.unique().shape[0])+ ' different names of countries.\\n')\n",
    "\n",
    "# wcountry = print(world.name.unique())\n",
    "# wcountry\n"
   ]
  },
  {
   "cell_type": "markdown",
   "metadata": {},
   "source": [
    "# Merge  dataframes\n",
    "\n",
    "## In order to mix the country location data with the lands distribution, we will match the 'region_country' of the Lands df with the 'name' of the world df. \n"
   ]
  },
  {
   "cell_type": "code",
   "execution_count": 9,
   "metadata": {},
   "outputs": [],
   "source": [
    "\n",
    "world_lands = world.merge(landun, left_on ='name',\n",
    "                          right_on ='region_country', how ='outer', \n",
    "                          left_index=True, indicator=True)\n",
    "\n"
   ]
  },
  {
   "cell_type": "markdown",
   "metadata": {},
   "source": [
    "There are register not coincident in both tables. This means, there are country names that are not exactly the same in both data bases.\n",
    "Let's find out this cases, keeping in mind that the reference is the geopandas df (world).\n",
    "We'll focus in those ones missing in world."
   ]
  },
  {
   "cell_type": "code",
   "execution_count": 10,
   "metadata": {
    "scrolled": false
   },
   "outputs": [],
   "source": [
    "# DataFrame with all the register, includind this ones that are not coincidents.\n",
    "\n",
    "def diff_countries(ldf, cl): # df1 is world, df2 is landun\n",
    "    df1=ldf[0]\n",
    "    df2=ldf[1]\n",
    "    n0 = cl[0]\n",
    "    n1 = cl[1]\n",
    "    d1 = pd.DataFrame(df1[n0].unique(), columns=[n0])\n",
    "    d1['name_dif']=''\n",
    "    d1['n_ind']=''\n",
    "    d2 = df2[n1].unique()\n",
    "    for nc in d2:\n",
    "        pat = nc\n",
    "        d1['name_dif'] = d1['name_dif'].mask(d1[n0].str.contains(pat, regex=False),pat)\n",
    "    for l in range(d1.shape[0]):\n",
    "        if d1.loc[l,n0] == d1.loc[l,'name_dif']:\n",
    "            d1.loc[l,'n_ind'] = 'idem'\n",
    "    d1 = d1[d1['n_ind']!= 'idem']\n",
    "    d1 = d1[d1.name_dif!='']\n",
    "    d1 = d1.drop('n_ind', axis=1)\n",
    "        \n",
    "    return (d1)\n",
    "\n",
    "# Calling the function to know which country name in Landun is similar to World \n",
    "ldf1=[world, landun]\n",
    "cl1 = ['name','region_country']\n",
    "over_landun = diff_countries(ldf1,cl1)    \n",
    "\n",
    "# Calling the function to know which country name in World is similar to Landun\n",
    "ldf2=[landun, world]\n",
    "cl2 = ['region_country', 'name']\n",
    "over_world = diff_countries(ldf2,cl2)\n",
    "\n",
    "over_landun.to_csv('/home/hmdg/Documents/Data_Science/Lands/over_landun.csv', index = False)\n",
    "over_world.to_csv('/home/hmdg/Documents/Data_Science/Lands/over_world.csv', index = False)\n",
    "\n"
   ]
  },
  {
   "cell_type": "markdown",
   "metadata": {},
   "source": [
    "This two files above shows the partial matchs between both tables.\n",
    "Inspecting them manually, it'ts done a reference table."
   ]
  },
  {
   "cell_type": "code",
   "execution_count": 11,
   "metadata": {},
   "outputs": [],
   "source": [
    "# Merging the country names\n",
    "\n",
    "country_ref = pd.read_csv('/home/hmdg/Documents/Data_Science/Repos/Lands/data/country_ref.csv', \n",
    "                          header=0, encoding='iso8859_1')\n",
    "\n",
    "# Particular cases:\n",
    "landun.loc[1880:1904,'region_country'] = landun.loc[1880:1904,'region_country'].replace(\"Côte dIvoire\",\"Côte d'Ivoire\")\n",
    "\n"
   ]
  },
  {
   "cell_type": "markdown",
   "metadata": {},
   "source": [
    "# Let's merge this country_ref table with the landun one:"
   ]
  },
  {
   "cell_type": "code",
   "execution_count": 12,
   "metadata": {},
   "outputs": [
    {
     "data": {
      "text/plain": [
       "((6199, 9), (6199, 9))"
      ]
     },
     "execution_count": 12,
     "metadata": {},
     "output_type": "execute_result"
    }
   ],
   "source": [
    "world_lands[['name', 'region_country']].shape\n",
    "\n",
    "country_ref\n",
    "def add_countries(df1):\n",
    "    df1['name_w']='' #df1 = landun\n",
    "    for nc in range(country_ref.shape[0]):\n",
    "        pat = country_ref.loc[nc,'region_country']\n",
    "        df1['name_w']=df1['name_w'].mask(df1['region_country']==pat, country_ref.loc[nc,'name'])   \n",
    "    df1['name_w'] = df1['name_w'].mask(df1['name_w']=='',df1['region_country'])\n",
    "    return df1\n",
    "    \n",
    "landun_w = add_countries(landun)\n",
    "landun_w.shape, landun.shape\n"
   ]
  },
  {
   "cell_type": "markdown",
   "metadata": {},
   "source": [
    "Now there is the Landun (lands df) with two country names columns: One with it originals('region_country') \n",
    "names and the other with the World df names (name_w).\n",
    "Let's merge them in order to see how is it the match."
   ]
  },
  {
   "cell_type": "code",
   "execution_count": 13,
   "metadata": {},
   "outputs": [],
   "source": [
    "y = 2016\n",
    "world_lands_after = world.merge(landun_w, left_on ='name',\n",
    "                          right_on ='name_w', how ='inner', \n",
    "                          left_index=True, indicator=True)\n",
    "\n",
    "\n",
    "world_lands_before = world.merge(landun[landun.year==y], left_on ='name',\n",
    "                          right_on ='region_country', how ='inner', \n",
    "                          left_index=True, indicator=True)\n",
    "\n"
   ]
  },
  {
   "cell_type": "markdown",
   "metadata": {},
   "source": [
    "After here, it's taken the world_lands_after df as the main reference."
   ]
  },
  {
   "cell_type": "code",
   "execution_count": 16,
   "metadata": {},
   "outputs": [],
   "source": [
    "wlands = world_lands_after.reset_index(drop=True)\n",
    "\n",
    "wlands = wlands.drop(columns='name')"
   ]
  },
  {
   "cell_type": "code",
   "execution_count": 17,
   "metadata": {},
   "outputs": [],
   "source": [
    "# Data frame with the countrys of the merged tables:\n",
    "    # geopandas df\n",
    "    # lands from the UN statistics    \n",
    "\n",
    "wlands.astype({'geometry': str}).to_csv(r'/home/hmdg/Documents/Data_Science/Repos/Lands/data/wlands.csv', index = False)"
   ]
  },
  {
   "cell_type": "code",
   "execution_count": null,
   "metadata": {},
   "outputs": [],
   "source": []
  }
 ],
 "metadata": {
  "kernelspec": {
   "display_name": "Python 3",
   "language": "python",
   "name": "python3"
  },
  "language_info": {
   "codemirror_mode": {
    "name": "ipython",
    "version": 3
   },
   "file_extension": ".py",
   "mimetype": "text/x-python",
   "name": "python",
   "nbconvert_exporter": "python",
   "pygments_lexer": "ipython3",
   "version": "3.7.3"
  }
 },
 "nbformat": 4,
 "nbformat_minor": 2
}
