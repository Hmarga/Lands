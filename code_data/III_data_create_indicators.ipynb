{
 "cells": [
  {
   "cell_type": "markdown",
   "metadata": {},
   "source": [
    "#  Objective of this source code:\n",
    "### 1- Create the indicators use for the analysis.\n",
    "### 2- Generate the correspondant dataframe."
   ]
  },
  {
   "cell_type": "code",
   "execution_count": 3,
   "metadata": {},
   "outputs": [],
   "source": [
    "# I.\n",
    "# -*- coding: utf-8 -*-\n",
    "\n",
    "import matplotlib.pyplot as plt\n",
    "import matplotlib as mpl\n",
    "import pandas as pd\n",
    "\n",
    "import geopandas as gpd\n",
    "from shapely import wkt\n",
    "from area import area\n",
    "import numpy as np\n",
    "\n",
    "# II\n",
    "# Reading the main table\n",
    "wl = pd.read_csv('/home/hmdg/Documents/Data_Science/Repos/Lands/data/wl.csv', \n",
    "                      header=0, encoding='iso8859_1')\n",
    "\n",
    "#  wlands Backup\n",
    "wlands = wl.copy()"
   ]
  },
  {
   "cell_type": "code",
   "execution_count": 4,
   "metadata": {},
   "outputs": [],
   "source": [
    "\n",
    "# III\n",
    "# Creating the dataframe to calcule the main indicators\n",
    "AL = wlands[['region_country','name_w','regionw','pop_est','value', 'geometry', 'continent']][wlands['a_type']=='AL'].rename(columns={'value':'AL'}).reset_index(drop=True)\n",
    "PC = wlands[['value']][wlands['a_type']=='PC'].rename(columns={'value':'PC'}).reset_index(drop=True)\n",
    "LA = wlands[['value']][wlands['a_type']=='LA'].rename(columns={'value':'LA'}).reset_index(drop=True)\n",
    "\n",
    "w_land = pd.concat([AL, PC, LA], axis=1, join='inner')\n",
    "\n",
    "\n",
    "def noNaN(df,values):\n",
    "    for v in values:\n",
    "        df[values] = df[values].replace(np.nan, 0)\n",
    "        return df[values]\n",
    "\n",
    "noNaN(w_land,['AL','PC','LA'])\n",
    "\n",
    "# II\n",
    "# Creating the indicators:\n",
    "# CL, CL%(AL + PC), 'pop_est%', 'density' and 'density_CL', HpF, ref, ind\n",
    "w_land['CL']= w_land['AL']+w_land['PC']\n",
    "w_land['CL%']= 100*w_land['CL']/w_land['LA']\n",
    "w_land['pop_est%'] = 100* w_land['pop_est']/w_land['pop_est'].sum()\n",
    "w_land['density'] = (w_land['pop_est']/4)/(0.1 + w_land['LA']*1000)\n",
    "w_land['density_CL'] = (w_land['pop_est']/4)/(0.1+w_land['CL']*1000)\n",
    "\n",
    "ref_val = 1 #---->> Ha Reference Value!!!!\n",
    "\n",
    "w_land['ref_val'] = 1\n",
    "w_land['HpF'] = (4000) * w_land['CL']/w_land['pop_est']\n",
    "w_land['ref'] = w_land['HpF'] - ref_val\n",
    "w_land = w_land.sort_values(by=['continent', 'ref']).reset_index(drop=True)\n",
    "w_land['ind'] = w_land['HpF'].apply(lambda x: 'over' if x >=ref_val else 'under')\n",
    "\n",
    "## Exceptions:\n",
    "#w_land = w_land[~w_land['name_w'].str.contains('Falkland Is.')] "
   ]
  },
  {
   "cell_type": "code",
   "execution_count": 5,
   "metadata": {},
   "outputs": [],
   "source": [
    "# Data frame with the countrys of the merged tables and the new indicators.\n",
    "\n",
    "w_land.to_csv(r'/home/hmdg/Documents/Data_Science/Repos/Lands/data/w_land.csv', index = False)"
   ]
  },
  {
   "cell_type": "code",
   "execution_count": null,
   "metadata": {},
   "outputs": [],
   "source": []
  }
 ],
 "metadata": {
  "kernelspec": {
   "display_name": "Python 3",
   "language": "python",
   "name": "python3"
  },
  "language_info": {
   "codemirror_mode": {
    "name": "ipython",
    "version": 3
   },
   "file_extension": ".py",
   "mimetype": "text/x-python",
   "name": "python",
   "nbconvert_exporter": "python",
   "pygments_lexer": "ipython3",
   "version": "3.7.3"
  }
 },
 "nbformat": 4,
 "nbformat_minor": 2
}
