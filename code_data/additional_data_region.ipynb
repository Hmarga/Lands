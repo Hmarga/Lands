{
 "cells": [
  {
   "cell_type": "code",
   "execution_count": 16,
   "metadata": {},
   "outputs": [],
   "source": [
    "# Ask shapereader to find the world regions\n",
    "\n",
    "# I Libraries\n",
    "import pandas as pd\n",
    "import cartopy.io.shapereader as shpreader\n",
    "import geopandas as gpd\n",
    "\n",
    "# II\n",
    "world = gpd.read_file(gpd.datasets.get_path('naturalearth_lowres')) # GEOPANDAS DF\n",
    "\n",
    "shpfilename = shpreader.natural_earth(resolution='110m', \n",
    "                                      category='cultural',\n",
    "                                      name='admin_0_countries')\n",
    "\n",
    "reader = shpreader.Reader(shpfilename)\n",
    "countries = reader.records()\n",
    "country = next(countries)\n",
    "\n",
    "# III Functions\n",
    "def nome(s):\n",
    "    df = s.attributes['NAME_EN'], s.attributes['REGION_WB'], s.attributes['NAME'], \n",
    "    s.attributes['GEOUNIT'], s.attributes['GEOU_DIF'],  s.attributes['GU_A3'],\n",
    "    s.attributes['BRK_GROUP'] , s.attributes['POSTAL'] \n",
    "    return df\n",
    "\n",
    "def region(c):\n",
    "    countries_bn = sorted(countries, key=c)\n",
    "    name_reg = []\n",
    "    for country in countries_bn:\n",
    "        name_reg.append([country.attributes['NAME_EN'], str(country.attributes['REGION_WB']), str(country.attributes['REGION_UN'])])\n",
    "    df = pd.DataFrame(name_reg, columns=['name', 'regionw', 'regionun'])\n",
    "    df = df.reset_index(drop=True)\n",
    "    return(df)\n",
    "\n",
    "# IV Create the df from shpreader\n",
    "region = region(nome)"
   ]
  },
  {
   "cell_type": "code",
   "execution_count": 17,
   "metadata": {},
   "outputs": [],
   "source": [
    "# Merge shpreader and geopandas\n",
    "rworld = world.merge(region, on='name', how='left', indicator=True)\n",
    "\n",
    "rworld_miss = rworld[rworld._merge != 'both']\n",
    "rworld_miss.astype({'geometry': str}).to_csv(r'/home/hmdg/Documents/Data_Science/Repos/Lands/data/rworld_miss.csv', index = False)"
   ]
  },
  {
   "cell_type": "code",
   "execution_count": 18,
   "metadata": {},
   "outputs": [],
   "source": [
    "rworld_miss_mod = pd.read_csv('/home/hmdg/Documents/Data_Science/Repos/Lands/data/rworld_miss_mod.csv', \n",
    "                      header=0, encoding='utf-8-sig')#'iso8859_1')#'"
   ]
  },
  {
   "cell_type": "code",
   "execution_count": 19,
   "metadata": {},
   "outputs": [],
   "source": [
    "rworld_miss_mod = pd.DataFrame(rworld_miss_mod)\n",
    "rworld_both = rworld[rworld._merge == 'both']\n",
    "\n",
    "# DF with both data region, continent and country\n",
    "reg_world= pd.concat([rworld_both, rworld_miss_mod]).reset_index(drop=True)\n",
    "\n",
    "reg_world= reg_world.drop(columns=['_merge'])\n",
    "\n",
    "reg_world.astype({'geometry': str}).to_csv(r'/home/hmdg/Documents/Data_Science/Repos/Lands/data/reg_world.csv', index = False)"
   ]
  },
  {
   "cell_type": "code",
   "execution_count": 94,
   "metadata": {},
   "outputs": [
    {
     "data": {
      "text/plain": [
       "((176, 3), (177, 6), (177, 9), (177, 9))"
      ]
     },
     "execution_count": 94,
     "metadata": {},
     "output_type": "execute_result"
    }
   ],
   "source": [
    "region.shape, world.shape, rworld.shape, reg_world.shape"
   ]
  },
  {
   "cell_type": "code",
   "execution_count": null,
   "metadata": {},
   "outputs": [],
   "source": []
  }
 ],
 "metadata": {
  "kernelspec": {
   "display_name": "Python 3",
   "language": "python",
   "name": "python3"
  },
  "language_info": {
   "codemirror_mode": {
    "name": "ipython",
    "version": 3
   },
   "file_extension": ".py",
   "mimetype": "text/x-python",
   "name": "python",
   "nbconvert_exporter": "python",
   "pygments_lexer": "ipython3",
   "version": "3.7.3"
  }
 },
 "nbformat": 4,
 "nbformat_minor": 2
}
